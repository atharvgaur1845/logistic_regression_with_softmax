{
 "cells": [
  {
   "cell_type": "code",
   "execution_count": 1,
   "id": "ac7ac109-106d-41e4-a28b-21822cd495cc",
   "metadata": {},
   "outputs": [],
   "source": [
    "import numpy as np\n",
    "import pandas as pd\n",
    "import matplotlib.pyplot as plt"
   ]
  },
  {
   "cell_type": "code",
   "execution_count": 2,
   "id": "69eb6d97-d9b1-4140-9609-756f0ab7b090",
   "metadata": {},
   "outputs": [
    {
     "name": "stdout",
     "output_type": "stream",
     "text": [
      "Index(['fixed acidity', 'volatile acidity', 'citric acid', 'residual sugar',\n",
      "       'chlorides', 'free sulfur dioxide', 'total sulfur dioxide', 'density',\n",
      "       'pH', 'sulphates', 'alcohol', 'quality'],\n",
      "      dtype='object')\n",
      "   fixed acidity  volatile acidity  citric acid  residual sugar  chlorides  \\\n",
      "0            7.0              0.27         0.36            20.7      0.045   \n",
      "1            6.3              0.30         0.34             1.6      0.049   \n",
      "2            8.1              0.28         0.40             6.9      0.050   \n",
      "3            7.2              0.23         0.32             8.5      0.058   \n",
      "4            7.2              0.23         0.32             8.5      0.058   \n",
      "\n",
      "   free sulfur dioxide  total sulfur dioxide  density    pH  sulphates  \\\n",
      "0                 45.0                 170.0   1.0010  3.00       0.45   \n",
      "1                 14.0                 132.0   0.9940  3.30       0.49   \n",
      "2                 30.0                  97.0   0.9951  3.26       0.44   \n",
      "3                 47.0                 186.0   0.9956  3.19       0.40   \n",
      "4                 47.0                 186.0   0.9956  3.19       0.40   \n",
      "\n",
      "   alcohol  quality  \n",
      "0      8.8        6  \n",
      "1      9.5        6  \n",
      "2     10.1        6  \n",
      "3      9.9        6  \n",
      "4      9.9        6  \n"
     ]
    }
   ],
   "source": [
    "df = pd.read_csv(\"WineDataset/winequality-white.csv\", delimiter=\";\")  \n",
    "print(df.columns)  \n",
    "print(df.head())  "
   ]
  },
  {
   "cell_type": "code",
   "execution_count": 3,
   "id": "fa3910b6-a180-420f-84ed-c90e6d70c81d",
   "metadata": {},
   "outputs": [],
   "source": [
    "def prepare_data(df):\n",
    "    #categories\n",
    "    conditions = [\n",
    "        (df['quality'] <= 4),\n",
    "        (df['quality'] > 4) & (df['quality'] <= 7),\n",
    "        (df['quality'] > 7)\n",
    "    ]\n",
    "    choices = [0, 1, 2]  #  0 = low, 1 = medium, 2 = high\n",
    "    df['quality_category'] = np.select(conditions, choices, default=1)  # Assign default if none match\n",
    "\n",
    "    #new quality column\n",
    "    X = df.drop(['quality', 'quality_category'], axis=1).values\n",
    "    y = df['quality_category'].astype(int).values  # Convert labels to integers\n",
    "   \n",
    "    # standardization of  features\n",
    "    X = (X - X.mean(axis=0)) / X.std(axis=0)\n",
    "    \n",
    "    return X, y\n",
    "\n",
    "def train_test_split(X, y, test_size=0.2, random_state=None):\n",
    "    if random_state is not None:\n",
    "        np.random.seed(random_state)\n",
    "        \n",
    "    indices = np.random.permutation(len(X))\n",
    "    test_size = int(test_size * len(X))\n",
    "    test_indices = indices[:test_size]\n",
    "    train_indices = indices[test_size:]\n",
    "    \n",
    "    return X[train_indices], X[test_indices], y[train_indices], y[test_indices]"
   ]
  },
  {
   "cell_type": "code",
   "execution_count": 4,
   "id": "5cd35dd9-0676-40cd-89b8-9e14a351cd17",
   "metadata": {},
   "outputs": [],
   "source": [
    "def softmax(z):\n",
    "    exp_z = np.exp(z - np.max(z, axis=1, keepdims=True))  \n",
    "    return exp_z / np.sum(exp_z, axis=1, keepdims=True)\n",
    "\n",
    "def initialize_weights(n_features, n_classes):\n",
    "    W = np.random.randn(n_features, n_classes) * 0.01\n",
    "    b = np.zeros((1, n_classes))\n",
    "    return W, b\n",
    "\n",
    "def cross_entropy_loss(y_true, y_pred):\n",
    "    m = y_true.shape[0]\n",
    "    loss = -np.sum(y_true * np.log(y_pred + 1e-9)) / m \n",
    "    return loss\n",
    "\n",
    "def one_hot_encode(y, num_classes):\n",
    "    m = y.shape[0]\n",
    "    y_one_hot = np.zeros((m, num_classes))\n",
    "    y_one_hot[np.arange(m), y] = 1\n",
    "    return y_one_hot\n",
    "\n",
    "def compute_gradients(X, y_one_hot, y_pred):\n",
    "    m = X.shape[0]\n",
    "    dW = (1 / m) * np.dot(X.T, (y_pred - y_one_hot))\n",
    "    db = (1 / m) * np.sum(y_pred - y_one_hot, axis=0, keepdims=True)\n",
    "    return dW, db\n"
   ]
  },
  {
   "cell_type": "code",
   "execution_count": 5,
   "id": "8369bc9e-a1fd-4449-99c2-e632d404ca6e",
   "metadata": {},
   "outputs": [],
   "source": [
    "def train(X, y, num_classes, learning_rate=0.1, epochs=1500):\n",
    "    n_samples, n_features = X.shape\n",
    "    W, b = initialize_weights(n_features, num_classes)\n",
    "    \n",
    "    y_one_hot = one_hot_encode(y, num_classes)\n",
    "\n",
    "    loss_history = []\n",
    "    \n",
    "    for epoch in range(epochs):\n",
    "        logits = np.dot(X, W) + b\n",
    "        y_pred = softmax(logits)\n",
    "        \n",
    "        loss = cross_entropy_loss(y_one_hot, y_pred)\n",
    "        loss_history.append(loss)\n",
    "        \n",
    "        dW, db = compute_gradients(X, y_one_hot, y_pred)\n",
    "        \n",
    "        W -= learning_rate * dW\n",
    "        b -= learning_rate * db\n",
    "        \n",
    "        if epoch % 100 == 0:\n",
    "            print(f\"Epoch {epoch}, Loss: {loss:.4f}\")\n",
    "    \n",
    "    return W, b, loss_history\n",
    "\n",
    "def predict(X, W, b):\n",
    "    logits = np.dot(X, W) + b\n",
    "    y_pred = softmax(logits)\n",
    "    return np.argmax(y_pred, axis=1)"
   ]
  },
  {
   "cell_type": "code",
   "execution_count": null,
   "id": "c4d48c5b-ade1-42f1-93ce-928bd39bd569",
   "metadata": {},
   "outputs": [],
   "source": [
    "X, y = prepare_data(df)\n",
    "X_train, X_test, y_train, y_test = train_test_split(X, y, test_size=0.2, random_state=42)"
   ]
  },
  {
   "cell_type": "code",
   "execution_count": 6,
   "id": "201107b7-9f54-4702-9114-a77ef46557cd",
   "metadata": {},
   "outputs": [
    {
     "name": "stdout",
     "output_type": "stream",
     "text": [
      "Epoch 0, Loss: 1.0990\n",
      "Epoch 100, Loss: 0.3071\n",
      "Epoch 200, Loss: 0.2858\n",
      "Epoch 300, Loss: 0.2796\n",
      "Epoch 400, Loss: 0.2765\n",
      "Epoch 500, Loss: 0.2748\n",
      "Epoch 600, Loss: 0.2736\n",
      "Epoch 700, Loss: 0.2729\n",
      "Epoch 800, Loss: 0.2723\n",
      "Epoch 900, Loss: 0.2719\n",
      "Epoch 1000, Loss: 0.2716\n",
      "Epoch 1100, Loss: 0.2714\n",
      "Epoch 1200, Loss: 0.2713\n",
      "Epoch 1300, Loss: 0.2711\n",
      "Epoch 1400, Loss: 0.2710\n"
     ]
    }
   ],
   "source": [
    "# train model\n",
    "num_classes = 3 #3 types of quality\n",
    "W, b, loss_history = train(X_train, y_train, num_classes)"
   ]
  },
  {
   "cell_type": "code",
   "execution_count": 7,
   "id": "5428d7a5-b543-4fb6-ba73-6a4ed47cb725",
   "metadata": {},
   "outputs": [
    {
     "data": {
      "image/png": "[encoded data removed]",
      "text/plain": [
       "<Figure size 640x480 with 1 Axes>"
      ]
     },
     "metadata": {},
     "output_type": "display_data"
    }
   ],
   "source": [
    "plt.plot(loss_history)\n",
    "plt.xlabel(\"Epochs\")\n",
    "plt.ylabel(\"Loss\")\n",
    "plt.title(\"Loss Curve\")\n",
    "plt.show()"
   ]
  },
  {
   "cell_type": "code",
   "execution_count": 8,
   "id": "a9b6c3f4-4814-4ef8-b672-3ff77a65215e",
   "metadata": {},
   "outputs": [
    {
     "name": "stdout",
     "output_type": "stream",
     "text": [
      "Test Accuracy: 93.16%\n"
     ]
    }
   ],
   "source": [
    "y_pred = predict(X_test, W, b)\n",
    "accuracy = np.mean(y_pred == y_test)\n",
    "print(f\"Test Accuracy: {accuracy * 100:.2f}%\")"
   ]
  }
 ],
 "metadata": {
  "kernelspec": {
   "display_name": "Python 3 (ipykernel)",
   "language": "python",
   "name": "python3"
  },
  "language_info": {
   "codemirror_mode": {
    "name": "ipython",
    "version": 3
   },
   "file_extension": ".py",
   "mimetype": "text/x-python",
   "name": "python",
   "nbconvert_exporter": "python",
   "pygments_lexer": "ipython3",
   "version": "3.12.4"
  }
 },
 "nbformat": 4,
 "nbformat_minor": 5
}
